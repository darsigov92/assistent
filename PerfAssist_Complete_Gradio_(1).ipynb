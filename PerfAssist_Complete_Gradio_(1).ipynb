{
  "cells": [
    {
      "cell_type": "markdown",
      "metadata": {
        "id": "view-in-github",
        "colab_type": "text"
      },
      "source": [
        "<a href=\"https://colab.research.google.com/github/darsigov92/assistent/blob/main/PerfAssist_Complete_Gradio_(1).ipynb\" target=\"_parent\"><img src=\"https://colab.research.google.com/assets/colab-badge.svg\" alt=\"Open In Colab\"/></a>"
      ]
    },
    {
      "cell_type": "code",
      "source": [
        "# Установка библиотек\n",
        "!pip install gspread oauth2client gradio scikit-learn pandas --quiet"
      ],
      "metadata": {
        "id": "6JEa-yY5FcQN"
      },
      "execution_count": null,
      "outputs": [],
      "id": "6JEa-yY5FcQN"
    },
    {
      "cell_type": "code",
      "source": [
        "# Импорты и подключение к Google Таблице\n",
        "import gradio as gr\n",
        "import pandas as pd\n",
        "import gspread\n",
        "from oauth2client.service_account import ServiceAccountCredentials\n",
        "from sklearn.linear_model import LogisticRegression\n",
        "import numpy as np\n",
        "\n",
        "# Настройка доступа\n",
        "SHEET_NAME = \"patient_database\"\n",
        "WORKSHEET_NAME = \"Лист1\"\n",
        "scope = [\"https://spreadsheets.google.com/feeds\", \"https://www.googleapis.com/auth/drive\"]\n",
        "creds = ServiceAccountCredentials.from_json_keyfile_name(\"your-credentials.json\", scope)\n",
        "client = gspread.authorize(creds)\n",
        "sheet = client.open(SHEET_NAME).worksheet(WORKSHEET_NAME)\n",
        "\n",
        "# Получение и сохранение данных\n",
        "def get_data():\n",
        "    # Ensure we get header and all data\n",
        "    data = sheet.get_all_values()\n",
        "    if not data:\n",
        "        return pd.DataFrame()\n",
        "    headers = data[0]\n",
        "    return pd.DataFrame(data[1:], columns=headers)\n",
        "\n",
        "sheet_columns = sheet.row_values(1)\n",
        "def save_patient(data_dict):\n",
        "    df = get_data()\n",
        "    patient_id = data_dict.get(\"ID пациента\", \"\").strip() # Get ID and remove leading/trailing whitespace\n",
        "\n",
        "    if patient_id and patient_id in df[\"ID пациента\"].astype(str).values:\n",
        "        # Find the row index (gspread is 1-indexed, header is row 1)\n",
        "        # .astype(str) is used to handle potential type mismatches between input and sheet data\n",
        "        try:\n",
        "            row_index = df[df[\"ID пациента\"].astype(str) == patient_id].index[0] + 2\n",
        "            values = [str(data_dict.get(col, \"\")) for col in sheet_columns]\n",
        "            sheet.update_row(row_index, values)\n",
        "            return f\"Пациент с ID {patient_id} обновлён.\"\n",
        "        except Exception as e:\n",
        "            return f\"Ошибка при обновлении пациента: {e}\"\n",
        "\n",
        "    else:\n",
        "        try:\n",
        "            values = [str(data_dict.get(col, \"\")) for col in sheet_columns]\n",
        "            sheet.append_row(values)\n",
        "            return \"Новый пациент сохранён.\"\n",
        "        except Exception as e:\n",
        "            return f\"Ошибка при сохранении нового пациента: {e}\"\n",
        "\n",
        "\n",
        "# Обучение и прогноз\n",
        "model = None\n",
        "X_columns = [\"Возраст\", \"ФВ ЛЖ\", \"ИМТ\", \"СД\", \"Креатинин\", \"СКФ\", \"EuroSCORE II\"]\n",
        "def train_model():\n",
        "    global model\n",
        "    df = get_data().dropna(subset=X_columns + [\"Исход\"]) # Drop rows with missing training data\n",
        "    if len(df) < 10:\n",
        "        return \"Недостаточно данных для обучения (требуется минимум 10 полных записей)\"\n",
        "    X = df[X_columns]\n",
        "    y = df[\"Исход\"]\n",
        "    # Ensure y is numeric\n",
        "    y = pd.to_numeric(y, errors='coerce').dropna()\n",
        "    X = X.loc[y.index] # Align X and y after dropping NaNs in y\n",
        "\n",
        "    if len(X) < 10:\n",
        "         return \"Недостаточно данных для обучения после очистки\"\n",
        "\n",
        "    model = LogisticRegression()\n",
        "    model.fit(X, y)\n",
        "    return f\"Модель обучена на {len(X)} пациентах.\"\n",
        "\n",
        "def predict_outcome(age, ef, bmi, diabetes, creatinine, gfr, euroscore):\n",
        "    if model is None:\n",
        "        return \"Сначала обучите модель.\"\n",
        "    # Ensure input is in correct format and handle potential errors\n",
        "    try:\n",
        "        x = np.array([[float(age), float(ef), float(bmi), float(diabetes), float(creatinine), float(gfr), float(euroscore)]])\n",
        "        prob = model.predict_proba(x)[0][1]\n",
        "        return f\"Вероятность неблагоприятного исхода: {round(prob * 100, 2)}%\"\n",
        "    except ValueError:\n",
        "        return \"Ошибка: Введите числовые значения для прогноза.\"\n",
        "    except Exception as e:\n",
        "        return f\"Произошла ошибка при прогнозировании: {e}\""
      ],
      "metadata": {
        "id": "Rj-0VbstFcQQ"
      },
      "execution_count": null,
      "outputs": [],
      "id": "Rj-0VbstFcQQ"
    },
    {
      "cell_type": "code",
      "source": [
        "# Интерфейс Gradio с блоками и всеми полями\n",
        "with gr.Blocks() as demo:\n",
        "    gr.Markdown(\"# Полный интерфейс для оценки риска у пациентов\")\n",
        "    with gr.Tab(\"Общие данные\"):\n",
        "        id = gr.Text(label=\"ID пациента\")\n",
        "        age = gr.Number(label=\"Возраст\")\n",
        "        dob = gr.Text(label=\"Дата рождения\")\n",
        "        sex = gr.Radio([\"М\", \"Ж\"], label=\"Пол\")\n",
        "        bmi = gr.Number(label=\"ИМТ\")\n",
        "        emergency = gr.Radio([1, 0], label=\"Экстренность (1=план, 0=экстр)\")\n",
        "        surgery_date = gr.Text(label=\"Дата операции\")\n",
        "        cpb_group = gr.Radio([\"ИК\", \"Без ИК\"], label=\"Группа\")\n",
        "        surgery_type = gr.Dropdown([\"АКШ с ИК\", \"АКШ без ИК\", \"Клапанная\", \"АКШ + Клапанная\", \"Аорта\", \"Комбинированная\", \"Другое\"], label=\"Тип операции\")\n",
        "        surgeon = gr.Text(label=\"Хирург\")\n",
        "        notes = gr.Textbox(label=\"Примечания\")\n",
        "    with gr.Tab(\"Кардиология\"):\n",
        "        ef = gr.Number(label=\"ФВ ЛЖ\")\n",
        "        af_type = gr.Radio([\"ФП\", \"Пароксизмы\", \"Нет\"], label=\"ФП / Пароксизмы\")\n",
        "        parox_count = gr.Number(label=\"Кол-во пароксизмов\")\n",
        "        angina_fc = gr.Radio([\"I\", \"II\", \"III\", \"IV\"], label=\"ФК ИБС\")\n",
        "        chf_stage = gr.Text(label=\"Стадия ХСН\")\n",
        "        chf_fc = gr.Radio([\"1\", \"2\", \"3\", \"4\"], label=\"ФК ХСН (NYHA)\")\n",
        "        cerebral_as = gr.Radio([\"Да\", \"Нет\"], label=\"Церебральный атеросклероз\")\n",
        "        bca_as = gr.Radio([\"Да\", \"Нет\"], label=\"Атеросклероз БЦА\")\n",
        "        leg_vessel_as = gr.Radio([\"Да\", \"Нет\"], label=\"Сосуды нижних конечностей\")\n",
        "        lv_aneurysm = gr.Radio([\"Да\", \"Нет\"], label=\"Аневризма ЛЖ\")\n",
        "    with gr.Tab(\"Лаборатория и почки\"):\n",
        "        nt_pro_bnp = gr.Number(label=\"Натрий-уретический пептид\")\n",
        "        syst_pa = gr.Text(label=\"СДЛА\")\n",
        "        edv = gr.Number(label=\"КДО\")\n",
        "        protein = gr.Number(label=\"Общий белок\")\n",
        "        urea = gr.Number(label=\"Мочевина\")\n",
        "        creatinine = gr.Number(label=\"Креатинин\")\n",
        "        ckd_stage = gr.Text(label=\"ХБП стадия\")\n",
        "        gfr = gr.Number(label=\"СКФ\")\n",
        "        hemoglobin = gr.Number(label=\"Гемоглобин\")\n",
        "    with gr.Tab(\"Поведение и исход\"):\n",
        "        diabetes = gr.Radio([1, 0], label=\"СД 2 типа\")\n",
        "        smoking = gr.Number(label=\"Курение (пачка/лет)\")\n",
        "        euroscore = gr.Number(label=\"EuroSCORE II\")\n",
        "        mini_access = gr.Radio([\"Да\", \"Нет\"], label=\"Мини-доступ\")\n",
        "        outcome = gr.Radio([1, 0], label=\"Исход (1=осложнение/смерть, 0=нет)\")\n",
        "\n",
        "    output = gr.Textbox(label=\"Результат\")\n",
        "    save = gr.Button(\"💾 Сохранить пациента\")\n",
        "    train = gr.Button(\"🧠 Обучить модель\")\n",
        "    predict = gr.Button(\"📈 Прогноз\")\n",
        "\n",
        "    inputs = [age, ef, bmi, diabetes, creatinine, gfr, euroscore]\n",
        "    save.click(lambda *vals: save_patient(dict(zip(sheet_columns, vals))),\n",
        "              inputs=[id, age, ef, cpb_group, dob, sex, bmi, emergency, surgery_date, diabetes, af_type, parox_count, angina_fc, chf_stage, chf_fc, cerebral_as, nt_pro_bnp, syst_pa, edv, protein, urea, creatinine, ckd_stage, gfr, hemoglobin, chf_fc, smoking, euroscore, surgeon, notes, leg_vessel_as, lv_aneurysm, mini_access, outcome],\n",
        "              outputs=output)\n",
        "    train.click(fn=train_model, outputs=output)\n",
        "    predict.click(fn=predict_outcome, inputs=inputs, outputs=output)\n",
        "\n",
        "demo.launch()"
      ],
      "metadata": {
        "id": "hhU5PjBgFcQS",
        "colab": {
          "base_uri": "https://localhost:8080/",
          "height": 646
        },
        "outputId": "02d01e24-5d19-43b3-f2f2-0b7ce7e6350d"
      },
      "execution_count": null,
      "outputs": [
        {
          "output_type": "stream",
          "name": "stdout",
          "text": [
            "It looks like you are running Gradio on a hosted a Jupyter notebook. For the Gradio app to work, sharing must be enabled. Automatically setting `share=True` (you can turn this off by setting `share=False` in `launch()` explicitly).\n",
            "\n",
            "Colab notebook detected. To show errors in colab notebook, set debug=True in launch()\n",
            "* Running on public URL: https://095e61400d3da42c5f.gradio.live\n",
            "\n",
            "This share link expires in 1 week. For free permanent hosting and GPU upgrades, run `gradio deploy` from the terminal in the working directory to deploy to Hugging Face Spaces (https://huggingface.co/spaces)\n"
          ]
        },
        {
          "output_type": "display_data",
          "data": {
            "text/plain": [
              "<IPython.core.display.HTML object>"
            ],
            "text/html": [
              "<div><iframe src=\"https://095e61400d3da42c5f.gradio.live\" width=\"100%\" height=\"500\" allow=\"autoplay; camera; microphone; clipboard-read; clipboard-write;\" frameborder=\"0\" allowfullscreen></iframe></div>"
            ]
          },
          "metadata": {}
        },
        {
          "output_type": "execute_result",
          "data": {
            "text/plain": []
          },
          "metadata": {},
          "execution_count": 18
        }
      ],
      "id": "hhU5PjBgFcQS"
    },
    {
      "cell_type": "markdown",
      "metadata": {
        "id": "5808f165"
      },
      "source": [
        "После обучения модели, вы можете использовать её для прогнозирования. Например, вот как можно сделать предсказание для нового пациента с заданными параметрами."
      ],
      "id": "5808f165"
    },
    {
      "cell_type": "code",
      "metadata": {
        "colab": {
          "base_uri": "https://localhost:8080/"
        },
        "id": "6ba1f3af",
        "outputId": "6d533869-9341-4bcc-bf73-5310c7eb846a"
      },
      "source": [
        "# Пример использования обученной модели для прогнозирования\n",
        "# Убедитесь, что модель обучена, прежде чем запускать этот код.\n",
        "# Вызовите train_model() или нажмите кнопку \"Обучить модель\" в интерфейсе Gradio.\n",
        "\n",
        "if model is not None:\n",
        "    # Пример данных для нового пациента (в том же порядке, что и X_columns)\n",
        "    # [\"Возраст\", \"ФВ ЛЖ\", \"ИМТ\", \"СД\", \"Креатинин\", \"СКФ\", \"EuroSCORE II\"]\n",
        "    new_patient_data = np.array([[65, 45, 28, 1, 1.2, 75, 5.5]])\n",
        "\n",
        "    # Прогнозирование вероятности неблагоприятного исхода\n",
        "    predicted_probability = model.predict_proba(new_patient_data)[0][1]\n",
        "\n",
        "    print(f\"Прогнозируемая вероятность неблагоприятного исхода для нового пациента: {round(predicted_probability * 100, 2)}%\")\n",
        "else:\n",
        "    print(\"Модель еще не обучена. Пожалуйста, сначала обучите модель.\")"
      ],
      "id": "6ba1f3af",
      "execution_count": 20,
      "outputs": [
        {
          "output_type": "stream",
          "name": "stdout",
          "text": [
            "Модель еще не обучена. Пожалуйста, сначала обучите модель.\n"
          ]
        }
      ]
    }
  ],
  "metadata": {
    "kernelspec": {
      "display_name": "Python 3",
      "language": "python",
      "name": "python3"
    },
    "language_info": {
      "name": "python"
    },
    "colab": {
      "provenance": [],
      "include_colab_link": true
    }
  },
  "nbformat": 4,
  "nbformat_minor": 5
}